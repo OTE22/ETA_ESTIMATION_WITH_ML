{
 "cells": [
  {
   "cell_type": "code",
   "execution_count": 1,
   "id": "4316767f",
   "metadata": {},
   "outputs": [],
   "source": [
    "import pandas as pd\n",
    "# Load the data\n",
    "df = pd.read_csv('Data/train.csv')"
   ]
  },
  {
   "cell_type": "code",
   "execution_count": 3,
   "id": "4d33a116",
   "metadata": {},
   "outputs": [
    {
     "data": {
      "text/html": [
       "<div>\n",
       "<style scoped>\n",
       "    .dataframe tbody tr th:only-of-type {\n",
       "        vertical-align: middle;\n",
       "    }\n",
       "\n",
       "    .dataframe tbody tr th {\n",
       "        vertical-align: top;\n",
       "    }\n",
       "\n",
       "    .dataframe thead th {\n",
       "        text-align: right;\n",
       "    }\n",
       "</style>\n",
       "<table border=\"1\" class=\"dataframe\">\n",
       "  <thead>\n",
       "    <tr style=\"text-align: right;\">\n",
       "      <th></th>\n",
       "      <th>row_id</th>\n",
       "      <th>start_lng</th>\n",
       "      <th>start_lat</th>\n",
       "      <th>end_lng</th>\n",
       "      <th>end_lat</th>\n",
       "      <th>datetime</th>\n",
       "      <th>duration</th>\n",
       "    </tr>\n",
       "  </thead>\n",
       "  <tbody>\n",
       "    <tr>\n",
       "      <th>0</th>\n",
       "      <td>0</td>\n",
       "      <td>-73.783279</td>\n",
       "      <td>40.644718</td>\n",
       "      <td>-73.963799</td>\n",
       "      <td>40.681320</td>\n",
       "      <td>2015-01-09 00:51:48</td>\n",
       "      <td>1815.0</td>\n",
       "    </tr>\n",
       "    <tr>\n",
       "      <th>1</th>\n",
       "      <td>1</td>\n",
       "      <td>-122.422385</td>\n",
       "      <td>37.789408</td>\n",
       "      <td>-122.419890</td>\n",
       "      <td>37.766692</td>\n",
       "      <td>2012-09-14 01:46:00</td>\n",
       "      <td>300.0</td>\n",
       "    </tr>\n",
       "    <tr>\n",
       "      <th>2</th>\n",
       "      <td>2</td>\n",
       "      <td>-73.885292</td>\n",
       "      <td>40.773060</td>\n",
       "      <td>-74.000076</td>\n",
       "      <td>40.761360</td>\n",
       "      <td>2015-04-19 20:26:57</td>\n",
       "      <td>2620.0</td>\n",
       "    </tr>\n",
       "    <tr>\n",
       "      <th>3</th>\n",
       "      <td>3</td>\n",
       "      <td>-122.401603</td>\n",
       "      <td>37.788975</td>\n",
       "      <td>-122.410958</td>\n",
       "      <td>37.796447</td>\n",
       "      <td>2012-09-03 23:48:00</td>\n",
       "      <td>360.0</td>\n",
       "    </tr>\n",
       "    <tr>\n",
       "      <th>4</th>\n",
       "      <td>4</td>\n",
       "      <td>-74.008728</td>\n",
       "      <td>40.714317</td>\n",
       "      <td>-74.006432</td>\n",
       "      <td>40.731720</td>\n",
       "      <td>2015-01-21 12:14:45</td>\n",
       "      <td>582.0</td>\n",
       "    </tr>\n",
       "  </tbody>\n",
       "</table>\n",
       "</div>"
      ],
      "text/plain": [
       "   row_id   start_lng  start_lat     end_lng    end_lat             datetime  \\\n",
       "0       0  -73.783279  40.644718  -73.963799  40.681320  2015-01-09 00:51:48   \n",
       "1       1 -122.422385  37.789408 -122.419890  37.766692  2012-09-14 01:46:00   \n",
       "2       2  -73.885292  40.773060  -74.000076  40.761360  2015-04-19 20:26:57   \n",
       "3       3 -122.401603  37.788975 -122.410958  37.796447  2012-09-03 23:48:00   \n",
       "4       4  -74.008728  40.714317  -74.006432  40.731720  2015-01-21 12:14:45   \n",
       "\n",
       "   duration  \n",
       "0    1815.0  \n",
       "1     300.0  \n",
       "2    2620.0  \n",
       "3     360.0  \n",
       "4     582.0  "
      ]
     },
     "execution_count": 3,
     "metadata": {},
     "output_type": "execute_result"
    }
   ],
   "source": [
    "df.head()"
   ]
  },
  {
   "cell_type": "code",
   "execution_count": 5,
   "id": "aca65ac0-57d2-499a-9804-09792c44808b",
   "metadata": {},
   "outputs": [
    {
     "name": "stdout",
     "output_type": "stream",
     "text": [
      "<class 'pandas.core.frame.DataFrame'>\n",
      "RangeIndex: 146001 entries, 0 to 146000\n",
      "Data columns (total 7 columns):\n",
      " #   Column     Non-Null Count   Dtype  \n",
      "---  ------     --------------   -----  \n",
      " 0   row_id     146001 non-null  int64  \n",
      " 1   start_lng  145601 non-null  float64\n",
      " 2   start_lat  146001 non-null  float64\n",
      " 3   end_lng    146001 non-null  float64\n",
      " 4   end_lat    145401 non-null  float64\n",
      " 5   datetime   146001 non-null  object \n",
      " 6   duration   146001 non-null  float64\n",
      "dtypes: float64(5), int64(1), object(1)\n",
      "memory usage: 7.8+ MB\n"
     ]
    }
   ],
   "source": [
    "# checking the null values\n",
    "df.info()\n"
   ]
  },
  {
   "cell_type": "code",
   "execution_count": 11,
   "id": "598a6771-2faa-42fa-982d-c25bcf9c009c",
   "metadata": {},
   "outputs": [
    {
     "data": {
      "text/plain": [
       "0"
      ]
     },
     "execution_count": 11,
     "metadata": {},
     "output_type": "execute_result"
    }
   ],
   "source": [
    "df.duplicated().sum()"
   ]
  },
  {
   "cell_type": "code",
   "execution_count": 15,
   "id": "6af828c6-6876-48a5-8afb-827ae106d6fb",
   "metadata": {},
   "outputs": [
    {
     "data": {
      "text/html": [
       "<div>\n",
       "<style scoped>\n",
       "    .dataframe tbody tr th:only-of-type {\n",
       "        vertical-align: middle;\n",
       "    }\n",
       "\n",
       "    .dataframe tbody tr th {\n",
       "        vertical-align: top;\n",
       "    }\n",
       "\n",
       "    .dataframe thead th {\n",
       "        text-align: right;\n",
       "    }\n",
       "</style>\n",
       "<table border=\"1\" class=\"dataframe\">\n",
       "  <thead>\n",
       "    <tr style=\"text-align: right;\">\n",
       "      <th></th>\n",
       "      <th>row_id</th>\n",
       "      <th>start_lng</th>\n",
       "      <th>start_lat</th>\n",
       "      <th>end_lng</th>\n",
       "      <th>end_lat</th>\n",
       "      <th>duration</th>\n",
       "    </tr>\n",
       "  </thead>\n",
       "  <tbody>\n",
       "    <tr>\n",
       "      <th>count</th>\n",
       "      <td>146001.000000</td>\n",
       "      <td>145601.000000</td>\n",
       "      <td>146001.000000</td>\n",
       "      <td>146001.000000</td>\n",
       "      <td>145401.000000</td>\n",
       "      <td>146001.000000</td>\n",
       "    </tr>\n",
       "    <tr>\n",
       "      <th>mean</th>\n",
       "      <td>73000.000000</td>\n",
       "      <td>-86.465695</td>\n",
       "      <td>39.913703</td>\n",
       "      <td>-87.177163</td>\n",
       "      <td>39.922772</td>\n",
       "      <td>1063.222314</td>\n",
       "    </tr>\n",
       "    <tr>\n",
       "      <th>std</th>\n",
       "      <td>42147.002663</td>\n",
       "      <td>25.468467</td>\n",
       "      <td>1.339508</td>\n",
       "      <td>22.225753</td>\n",
       "      <td>1.336437</td>\n",
       "      <td>3305.905829</td>\n",
       "    </tr>\n",
       "    <tr>\n",
       "      <th>min</th>\n",
       "      <td>0.000000</td>\n",
       "      <td>-122.515832</td>\n",
       "      <td>37.459648</td>\n",
       "      <td>-122.634420</td>\n",
       "      <td>37.225640</td>\n",
       "      <td>0.000000</td>\n",
       "    </tr>\n",
       "    <tr>\n",
       "      <th>25%</th>\n",
       "      <td>36500.000000</td>\n",
       "      <td>-122.393532</td>\n",
       "      <td>37.798430</td>\n",
       "      <td>-122.392458</td>\n",
       "      <td>37.800318</td>\n",
       "      <td>382.000000</td>\n",
       "    </tr>\n",
       "    <tr>\n",
       "      <th>50%</th>\n",
       "      <td>73000.000000</td>\n",
       "      <td>-73.989830</td>\n",
       "      <td>40.741089</td>\n",
       "      <td>-73.988754</td>\n",
       "      <td>40.740990</td>\n",
       "      <td>631.000000</td>\n",
       "    </tr>\n",
       "    <tr>\n",
       "      <th>75%</th>\n",
       "      <td>109500.000000</td>\n",
       "      <td>-73.974190</td>\n",
       "      <td>40.762104</td>\n",
       "      <td>-73.971245</td>\n",
       "      <td>40.762669</td>\n",
       "      <td>1020.000000</td>\n",
       "    </tr>\n",
       "    <tr>\n",
       "      <th>max</th>\n",
       "      <td>146000.000000</td>\n",
       "      <td>74.100212</td>\n",
       "      <td>40.994354</td>\n",
       "      <td>-50.336068</td>\n",
       "      <td>41.005390</td>\n",
       "      <td>42168.000000</td>\n",
       "    </tr>\n",
       "  </tbody>\n",
       "</table>\n",
       "</div>"
      ],
      "text/plain": [
       "              row_id      start_lng      start_lat        end_lng  \\\n",
       "count  146001.000000  145601.000000  146001.000000  146001.000000   \n",
       "mean    73000.000000     -86.465695      39.913703     -87.177163   \n",
       "std     42147.002663      25.468467       1.339508      22.225753   \n",
       "min         0.000000    -122.515832      37.459648    -122.634420   \n",
       "25%     36500.000000    -122.393532      37.798430    -122.392458   \n",
       "50%     73000.000000     -73.989830      40.741089     -73.988754   \n",
       "75%    109500.000000     -73.974190      40.762104     -73.971245   \n",
       "max    146000.000000      74.100212      40.994354     -50.336068   \n",
       "\n",
       "             end_lat       duration  \n",
       "count  145401.000000  146001.000000  \n",
       "mean       39.922772    1063.222314  \n",
       "std         1.336437    3305.905829  \n",
       "min        37.225640       0.000000  \n",
       "25%        37.800318     382.000000  \n",
       "50%        40.740990     631.000000  \n",
       "75%        40.762669    1020.000000  \n",
       "max        41.005390   42168.000000  "
      ]
     },
     "execution_count": 15,
     "metadata": {},
     "output_type": "execute_result"
    }
   ],
   "source": [
    "# i want to understand the data\n",
    "df.describe()"
   ]
  },
  {
   "cell_type": "code",
   "execution_count": 19,
   "id": "cc24fa5b-4c65-4933-97af-3aed18c25e98",
   "metadata": {},
   "outputs": [
    {
     "data": {
      "text/plain": [
       "(146001, 7)"
      ]
     },
     "execution_count": 19,
     "metadata": {},
     "output_type": "execute_result"
    }
   ],
   "source": [
    "df.shape"
   ]
  },
  {
   "cell_type": "code",
   "execution_count": 37,
   "id": "e7c46948-ad10-46d3-a9f3-83595f0b594e",
   "metadata": {},
   "outputs": [
    {
     "data": {
      "text/plain": [
       "Index(['start_lng', 'start_lat', 'end_lng', 'end_lat', 'datetime', 'duration'], dtype='object')"
      ]
     },
     "execution_count": 37,
     "metadata": {},
     "output_type": "execute_result"
    }
   ],
   "source": [
    "# what are the columns name for the data set\n",
    "df.columns\n",
    "# df = df.drop(columns=['row_id'])\n"
   ]
  },
  {
   "cell_type": "code",
   "execution_count": 33,
   "id": "84723def-618a-4709-a454-17ba0e2b5a9b",
   "metadata": {},
   "outputs": [
    {
     "data": {
      "image/png": "[encoded data removed]",
      "text/plain": [
       "<Figure size 600x400 with 1 Axes>"
      ]
     },
     "metadata": {},
     "output_type": "display_data"
    },
    {
     "data": {
      "image/png": "[encoded data removed]",
      "text/plain": [
       "<Figure size 600x400 with 1 Axes>"
      ]
     },
     "metadata": {},
     "output_type": "display_data"
    },
    {
     "data": {
      "image/png": "[encoded data removed]",
      "text/plain": [
       "<Figure size 600x400 with 1 Axes>"
      ]
     },
     "metadata": {},
     "output_type": "display_data"
    },
    {
     "data": {
      "image/png": "[encoded data removed]",
      "text/plain": [
       "<Figure size 600x400 with 1 Axes>"
      ]
     },
     "metadata": {},
     "output_type": "display_data"
    },
    {
     "data": {
      "image/png": "[encoded data removed]",
      "text/plain": [
       "<Figure size 600x400 with 1 Axes>"
      ]
     },
     "metadata": {},
     "output_type": "display_data"
    }
   ],
   "source": [
    "import matplotlib.pyplot as plt\n",
    "import seaborn as sns\n",
    "for col in df.select_dtypes(include='number').columns:\n",
    "    plt.figure(figsize=(6,4))\n",
    "    sns.histplot(df[col], kde=True)\n",
    "    plt.title(f'Distribution of {col}')\n",
    "    plt.show()\n"
   ]
  },
  {
   "cell_type": "code",
   "execution_count": 61,
   "id": "8140be9e-e1f0-4b31-8b40-cebf2b6ec2bc",
   "metadata": {},
   "outputs": [
    {
     "name": "stdout",
     "output_type": "stream",
     "text": [
      "Outliers DataFrame:\n"
     ]
    },
    {
     "data": {
      "text/html": [
       "<div>\n",
       "<style scoped>\n",
       "    .dataframe tbody tr th:only-of-type {\n",
       "        vertical-align: middle;\n",
       "    }\n",
       "\n",
       "    .dataframe tbody tr th {\n",
       "        vertical-align: top;\n",
       "    }\n",
       "\n",
       "    .dataframe thead th {\n",
       "        text-align: right;\n",
       "    }\n",
       "</style>\n",
       "<table border=\"1\" class=\"dataframe\">\n",
       "  <thead>\n",
       "    <tr style=\"text-align: right;\">\n",
       "      <th></th>\n",
       "      <th>start_lng</th>\n",
       "      <th>start_lat</th>\n",
       "      <th>end_lng</th>\n",
       "      <th>end_lat</th>\n",
       "      <th>datetime</th>\n",
       "      <th>duration</th>\n",
       "    </tr>\n",
       "  </thead>\n",
       "  <tbody>\n",
       "    <tr>\n",
       "      <th>46</th>\n",
       "      <td>-73.983818</td>\n",
       "      <td>40.759293</td>\n",
       "      <td>-73.990898</td>\n",
       "      <td>40.750740</td>\n",
       "      <td>2015-11-29 12:14:58</td>\n",
       "      <td>112.0</td>\n",
       "    </tr>\n",
       "    <tr>\n",
       "      <th>75</th>\n",
       "      <td>-73.946541</td>\n",
       "      <td>40.776920</td>\n",
       "      <td>-73.954781</td>\n",
       "      <td>40.765629</td>\n",
       "      <td>2015-12-28 21:38:33</td>\n",
       "      <td>240.0</td>\n",
       "    </tr>\n",
       "    <tr>\n",
       "      <th>341</th>\n",
       "      <td>-73.968796</td>\n",
       "      <td>40.767227</td>\n",
       "      <td>-73.967491</td>\n",
       "      <td>40.763187</td>\n",
       "      <td>2015-01-31 16:48:22</td>\n",
       "      <td>200.0</td>\n",
       "    </tr>\n",
       "    <tr>\n",
       "      <th>455</th>\n",
       "      <td>-73.871223</td>\n",
       "      <td>40.773872</td>\n",
       "      <td>-73.955200</td>\n",
       "      <td>40.769100</td>\n",
       "      <td>2015-03-16 17:03:00</td>\n",
       "      <td>1313.0</td>\n",
       "    </tr>\n",
       "    <tr>\n",
       "      <th>615</th>\n",
       "      <td>-73.957359</td>\n",
       "      <td>40.765820</td>\n",
       "      <td>-73.982292</td>\n",
       "      <td>40.769608</td>\n",
       "      <td>2015-01-05 11:52:00</td>\n",
       "      <td>808.0</td>\n",
       "    </tr>\n",
       "    <tr>\n",
       "      <th>...</th>\n",
       "      <td>...</td>\n",
       "      <td>...</td>\n",
       "      <td>...</td>\n",
       "      <td>...</td>\n",
       "      <td>...</td>\n",
       "      <td>...</td>\n",
       "    </tr>\n",
       "    <tr>\n",
       "      <th>145537</th>\n",
       "      <td>-73.927422</td>\n",
       "      <td>40.708672</td>\n",
       "      <td>-73.950890</td>\n",
       "      <td>40.774761</td>\n",
       "      <td>2015-09-27 08:25:43</td>\n",
       "      <td>1495.0</td>\n",
       "    </tr>\n",
       "    <tr>\n",
       "      <th>145641</th>\n",
       "      <td>-73.989563</td>\n",
       "      <td>40.734467</td>\n",
       "      <td>-74.001640</td>\n",
       "      <td>40.735237</td>\n",
       "      <td>2015-04-10 02:07:38</td>\n",
       "      <td>311.0</td>\n",
       "    </tr>\n",
       "    <tr>\n",
       "      <th>145774</th>\n",
       "      <td>-73.977684</td>\n",
       "      <td>40.752537</td>\n",
       "      <td>-73.985046</td>\n",
       "      <td>40.757290</td>\n",
       "      <td>2015-02-23 19:25:20</td>\n",
       "      <td>358.0</td>\n",
       "    </tr>\n",
       "    <tr>\n",
       "      <th>145855</th>\n",
       "      <td>-73.944839</td>\n",
       "      <td>40.778217</td>\n",
       "      <td>-73.957794</td>\n",
       "      <td>40.811180</td>\n",
       "      <td>2015-05-18 10:27:43</td>\n",
       "      <td>957.0</td>\n",
       "    </tr>\n",
       "    <tr>\n",
       "      <th>145918</th>\n",
       "      <td>-73.991928</td>\n",
       "      <td>40.754269</td>\n",
       "      <td>-73.977341</td>\n",
       "      <td>40.759659</td>\n",
       "      <td>2015-04-20 15:24:44</td>\n",
       "      <td>1429.0</td>\n",
       "    </tr>\n",
       "  </tbody>\n",
       "</table>\n",
       "<p>1000 rows × 6 columns</p>\n",
       "</div>"
      ],
      "text/plain": [
       "        start_lng  start_lat    end_lng    end_lat             datetime  \\\n",
       "46     -73.983818  40.759293 -73.990898  40.750740  2015-11-29 12:14:58   \n",
       "75     -73.946541  40.776920 -73.954781  40.765629  2015-12-28 21:38:33   \n",
       "341    -73.968796  40.767227 -73.967491  40.763187  2015-01-31 16:48:22   \n",
       "455    -73.871223  40.773872 -73.955200  40.769100  2015-03-16 17:03:00   \n",
       "615    -73.957359  40.765820 -73.982292  40.769608  2015-01-05 11:52:00   \n",
       "...           ...        ...        ...        ...                  ...   \n",
       "145537 -73.927422  40.708672 -73.950890  40.774761  2015-09-27 08:25:43   \n",
       "145641 -73.989563  40.734467 -74.001640  40.735237  2015-04-10 02:07:38   \n",
       "145774 -73.977684  40.752537 -73.985046  40.757290  2015-02-23 19:25:20   \n",
       "145855 -73.944839  40.778217 -73.957794  40.811180  2015-05-18 10:27:43   \n",
       "145918 -73.991928  40.754269 -73.977341  40.759659  2015-04-20 15:24:44   \n",
       "\n",
       "        duration  \n",
       "46         112.0  \n",
       "75         240.0  \n",
       "341        200.0  \n",
       "455       1313.0  \n",
       "615        808.0  \n",
       "...          ...  \n",
       "145537    1495.0  \n",
       "145641     311.0  \n",
       "145774     358.0  \n",
       "145855     957.0  \n",
       "145918    1429.0  \n",
       "\n",
       "[1000 rows x 6 columns]"
      ]
     },
     "metadata": {},
     "output_type": "display_data"
    }
   ],
   "source": [
    "# -----------------------------\n",
    "# Detect Outliers using IQR (start_lng)\n",
    "# -----------------------------\n",
    "\n",
    "# Import libraries\n",
    "import pandas as pd\n",
    "import matplotlib.pyplot as plt\n",
    "import seaborn as sns\n",
    "\n",
    "# Calculate Q1, Q3, and IQR\n",
    "Q1 = df['start_lng'].quantile(0.25)\n",
    "Q3 = df['start_lng'].quantile(0.75)\n",
    "IQR = Q3 - Q1\n",
    "\n",
    "# Define the bounds\n",
    "lower_bound = Q1 - 1.5 * IQR\n",
    "upper_bound = Q3 + 1.5 * IQR\n",
    "\n",
    "# Extract outliers as a DataFrame\n",
    "outliers_df = df[(df['start_lng'] < lower_bound) | (df['start_lng'] > upper_bound)]\n",
    "# Make start_lng values negative using .loc\n",
    "outliers_df.loc[:, 'start_lng'] = -abs(outliers_df['start_lng'])\n",
    "# Show outliers DataFrame\n",
    "print(\"Outliers DataFrame:\")\n",
    "display(outliers_df)"
   ]
  },
  {
   "cell_type": "code",
   "execution_count": 63,
   "id": "5dbe428c-daa2-4238-97ed-cb4454ab521a",
   "metadata": {},
   "outputs": [
    {
     "data": {
      "text/plain": [
       "Text(0.5, 1.0, 'Before Removing Outliers')"
      ]
     },
     "execution_count": 63,
     "metadata": {},
     "output_type": "execute_result"
    },
    {
     "data": {
      "image/png": "[encoded data removed]",
      "text/plain": [
       "<Figure size 1200x500 with 1 Axes>"
      ]
     },
     "metadata": {},
     "output_type": "display_data"
    }
   ],
   "source": [
    "# Visualize before and after\n",
    "plt.figure(figsize=(12,5))\n",
    "\n",
    "plt.subplot(1,2,1)\n",
    "sns.boxplot(x=df['start_lng'])\n",
    "plt.title(\"Before Removing Outliers\")"
   ]
  },
  {
   "cell_type": "code",
   "execution_count": null,
   "id": "cd40117e-aad9-496d-9bbb-44d1cd3651e1",
   "metadata": {},
   "outputs": [],
   "source": []
  },
  {
   "cell_type": "code",
   "execution_count": 65,
   "id": "fc5a9bcc-4027-446b-a74d-7f7408e877ee",
   "metadata": {},
   "outputs": [
    {
     "name": "stdout",
     "output_type": "stream",
     "text": [
      "✅ Map saved as 'outliers_map.html'\n"
     ]
    }
   ],
   "source": [
    "# --- Create Map ---\n",
    "import folium\n",
    "# Center map around the median coordinates\n",
    "center_lat = outliers_df['start_lat'].median()\n",
    "center_lng = outliers_df['start_lng'].median()\n",
    "m = folium.Map(location=[center_lat, center_lng], zoom_start=10)\n",
    "\n",
    "# --- Add Markers for Outliers ---\n",
    "for _, row in outliers_df.iterrows():\n",
    "    folium.Marker(\n",
    "        location=[row['start_lat'], row['start_lng']],\n",
    "        popup=f\"Start_Lng: {row['start_lng']}, Start_Lat: {row['start_lat']}\",\n",
    "        icon=folium.Icon(color=\"red\", icon=\"warning-sign\")\n",
    "    ).add_to(m)\n",
    "\n",
    "# Display the map in notebook\n",
    "# Optional: Save to HTML file\n",
    "m.save(\"outliers_map.html\")\n",
    "print(\"✅ Map saved as 'outliers_map.html'\")"
   ]
  },
  {
   "cell_type": "code",
   "execution_count": 51,
   "id": "87655734-688e-4572-8dfc-e795a5aa485b",
   "metadata": {},
   "outputs": [
    {
     "name": "stdout",
     "output_type": "stream",
     "text": [
      "Collecting folium\n",
      "  Downloading folium-0.18.0-py2.py3-none-any.whl.metadata (3.8 kB)\n",
      "Collecting branca>=0.6.0 (from folium)\n",
      "  Downloading branca-0.8.2-py3-none-any.whl.metadata (1.7 kB)\n",
      "Requirement already satisfied: jinja2>=2.9 in c:\\users\\raven\\desktop\\general zein\\ai engineer\\ai engineer\\end_to_end_mlops\\mlproject\\venv\\lib\\site-packages (from folium) (3.1.6)\n",
      "Requirement already satisfied: numpy in c:\\users\\raven\\desktop\\general zein\\ai engineer\\ai engineer\\end_to_end_mlops\\mlproject\\venv\\lib\\site-packages (from folium) (1.24.4)\n",
      "Collecting requests (from folium)\n",
      "  Downloading requests-2.32.4-py3-none-any.whl.metadata (4.9 kB)\n",
      "Collecting xyzservices (from folium)\n",
      "  Downloading xyzservices-2025.4.0-py3-none-any.whl.metadata (4.3 kB)\n",
      "Requirement already satisfied: MarkupSafe>=2.0 in c:\\users\\raven\\desktop\\general zein\\ai engineer\\ai engineer\\end_to_end_mlops\\mlproject\\venv\\lib\\site-packages (from jinja2>=2.9->folium) (2.1.5)\n",
      "Collecting charset_normalizer<4,>=2 (from requests->folium)\n",
      "  Downloading charset_normalizer-3.4.4-cp38-cp38-win_amd64.whl.metadata (38 kB)\n",
      "Collecting idna<4,>=2.5 (from requests->folium)\n",
      "  Downloading idna-3.11-py3-none-any.whl.metadata (8.4 kB)\n",
      "Collecting urllib3<3,>=1.21.1 (from requests->folium)\n",
      "  Downloading urllib3-2.2.3-py3-none-any.whl.metadata (6.5 kB)\n",
      "Collecting certifi>=2017.4.17 (from requests->folium)\n",
      "  Downloading certifi-2025.10.5-py3-none-any.whl.metadata (2.5 kB)\n",
      "Downloading folium-0.18.0-py2.py3-none-any.whl (108 kB)\n",
      "Downloading branca-0.8.2-py3-none-any.whl (26 kB)\n",
      "Downloading requests-2.32.4-py3-none-any.whl (64 kB)\n",
      "Downloading xyzservices-2025.4.0-py3-none-any.whl (90 kB)\n",
      "Downloading certifi-2025.10.5-py3-none-any.whl (163 kB)\n",
      "Downloading charset_normalizer-3.4.4-cp38-cp38-win_amd64.whl (106 kB)\n",
      "Downloading idna-3.11-py3-none-any.whl (71 kB)\n",
      "Downloading urllib3-2.2.3-py3-none-any.whl (126 kB)\n",
      "Installing collected packages: xyzservices, urllib3, idna, charset_normalizer, certifi, requests, branca, folium\n",
      "Successfully installed branca-0.8.2 certifi-2025.10.5 charset_normalizer-3.4.4 folium-0.18.0 idna-3.11 requests-2.32.4 urllib3-2.2.3 xyzservices-2025.4.0\n"
     ]
    }
   ],
   "source": [
    "!pip install folium"
   ]
  },
  {
   "cell_type": "code",
   "execution_count": 67,
   "id": "f525ee5b-730a-4b7d-b88c-d2d77b9a2638",
   "metadata": {},
   "outputs": [
    {
     "name": "stdout",
     "output_type": "stream",
     "text": [
      "count    146001.000000\n",
      "mean       1063.222314\n",
      "std        3305.905829\n",
      "min           0.000000\n",
      "25%         382.000000\n",
      "50%         631.000000\n",
      "75%        1020.000000\n",
      "max       42168.000000\n",
      "Name: duration, dtype: float64\n"
     ]
    }
   ],
   "source": [
    "# aso i  want to draw the  duration column\n",
    "print(df['duration'].describe())\n"
   ]
  },
  {
   "cell_type": "code",
   "execution_count": 69,
   "id": "a3702ef7-6c99-4ff8-ba8a-4da7e8bb1ca6",
   "metadata": {},
   "outputs": [
    {
     "data": {
      "text/plain": [
       "500"
      ]
     },
     "execution_count": 69,
     "metadata": {},
     "output_type": "execute_result"
    }
   ],
   "source": [
    "(df['duration'] == 0).sum()"
   ]
  },
  {
   "cell_type": "code",
   "execution_count": 71,
   "id": "47900914-ad1f-4de1-88cc-fa00bf54b8bb",
   "metadata": {},
   "outputs": [
    {
     "data": {
      "text/plain": [
       "0.0"
      ]
     },
     "execution_count": 71,
     "metadata": {},
     "output_type": "execute_result"
    }
   ],
   "source": [
    "df['duration'].min()"
   ]
  },
  {
   "cell_type": "code",
   "execution_count": 73,
   "id": "52d59c0d-daf1-41f2-9d0a-f16d91c0b0d7",
   "metadata": {},
   "outputs": [
    {
     "data": {
      "text/plain": [
       "42168.0"
      ]
     },
     "execution_count": 73,
     "metadata": {},
     "output_type": "execute_result"
    }
   ],
   "source": [
    "df['duration'].max()"
   ]
  },
  {
   "cell_type": "code",
   "execution_count": 75,
   "id": "8bb3612e-23e0-4567-8a98-e2fc87f18208",
   "metadata": {},
   "outputs": [],
   "source": [
    "# so its in metrics in seconds we have to convert it to minutes\n",
    "# Convert duration from seconds to minutes\n",
    "df['duration'] = df['duration'] / 60\n"
   ]
  },
  {
   "cell_type": "code",
   "execution_count": 77,
   "id": "aeeadc8d-db93-4e5a-9c67-0cffda71baab",
   "metadata": {},
   "outputs": [
    {
     "data": {
      "text/html": [
       "<div>\n",
       "<style scoped>\n",
       "    .dataframe tbody tr th:only-of-type {\n",
       "        vertical-align: middle;\n",
       "    }\n",
       "\n",
       "    .dataframe tbody tr th {\n",
       "        vertical-align: top;\n",
       "    }\n",
       "\n",
       "    .dataframe thead th {\n",
       "        text-align: right;\n",
       "    }\n",
       "</style>\n",
       "<table border=\"1\" class=\"dataframe\">\n",
       "  <thead>\n",
       "    <tr style=\"text-align: right;\">\n",
       "      <th></th>\n",
       "      <th>start_lng</th>\n",
       "      <th>start_lat</th>\n",
       "      <th>end_lng</th>\n",
       "      <th>end_lat</th>\n",
       "      <th>datetime</th>\n",
       "      <th>duration</th>\n",
       "    </tr>\n",
       "  </thead>\n",
       "  <tbody>\n",
       "    <tr>\n",
       "      <th>0</th>\n",
       "      <td>-73.783279</td>\n",
       "      <td>40.644718</td>\n",
       "      <td>-73.963799</td>\n",
       "      <td>40.681320</td>\n",
       "      <td>2015-01-09 00:51:48</td>\n",
       "      <td>30.250000</td>\n",
       "    </tr>\n",
       "    <tr>\n",
       "      <th>1</th>\n",
       "      <td>-122.422385</td>\n",
       "      <td>37.789408</td>\n",
       "      <td>-122.419890</td>\n",
       "      <td>37.766692</td>\n",
       "      <td>2012-09-14 01:46:00</td>\n",
       "      <td>5.000000</td>\n",
       "    </tr>\n",
       "    <tr>\n",
       "      <th>2</th>\n",
       "      <td>-73.885292</td>\n",
       "      <td>40.773060</td>\n",
       "      <td>-74.000076</td>\n",
       "      <td>40.761360</td>\n",
       "      <td>2015-04-19 20:26:57</td>\n",
       "      <td>43.666667</td>\n",
       "    </tr>\n",
       "    <tr>\n",
       "      <th>3</th>\n",
       "      <td>-122.401603</td>\n",
       "      <td>37.788975</td>\n",
       "      <td>-122.410958</td>\n",
       "      <td>37.796447</td>\n",
       "      <td>2012-09-03 23:48:00</td>\n",
       "      <td>6.000000</td>\n",
       "    </tr>\n",
       "    <tr>\n",
       "      <th>4</th>\n",
       "      <td>-74.008728</td>\n",
       "      <td>40.714317</td>\n",
       "      <td>-74.006432</td>\n",
       "      <td>40.731720</td>\n",
       "      <td>2015-01-21 12:14:45</td>\n",
       "      <td>9.700000</td>\n",
       "    </tr>\n",
       "  </tbody>\n",
       "</table>\n",
       "</div>"
      ],
      "text/plain": [
       "    start_lng  start_lat     end_lng    end_lat             datetime  \\\n",
       "0  -73.783279  40.644718  -73.963799  40.681320  2015-01-09 00:51:48   \n",
       "1 -122.422385  37.789408 -122.419890  37.766692  2012-09-14 01:46:00   \n",
       "2  -73.885292  40.773060  -74.000076  40.761360  2015-04-19 20:26:57   \n",
       "3 -122.401603  37.788975 -122.410958  37.796447  2012-09-03 23:48:00   \n",
       "4  -74.008728  40.714317  -74.006432  40.731720  2015-01-21 12:14:45   \n",
       "\n",
       "    duration  \n",
       "0  30.250000  \n",
       "1   5.000000  \n",
       "2  43.666667  \n",
       "3   6.000000  \n",
       "4   9.700000  "
      ]
     },
     "execution_count": 77,
     "metadata": {},
     "output_type": "execute_result"
    }
   ],
   "source": [
    "df.head()"
   ]
  },
  {
   "cell_type": "code",
   "execution_count": 79,
   "id": "526b1e1c-9493-495c-b778-a1ba2307fa5d",
   "metadata": {},
   "outputs": [
    {
     "data": {
      "text/html": [
       "<div>\n",
       "<style scoped>\n",
       "    .dataframe tbody tr th:only-of-type {\n",
       "        vertical-align: middle;\n",
       "    }\n",
       "\n",
       "    .dataframe tbody tr th {\n",
       "        vertical-align: top;\n",
       "    }\n",
       "\n",
       "    .dataframe thead th {\n",
       "        text-align: right;\n",
       "    }\n",
       "</style>\n",
       "<table border=\"1\" class=\"dataframe\">\n",
       "  <thead>\n",
       "    <tr style=\"text-align: right;\">\n",
       "      <th></th>\n",
       "      <th>start_lng</th>\n",
       "      <th>start_lat</th>\n",
       "      <th>end_lng</th>\n",
       "      <th>end_lat</th>\n",
       "      <th>duration</th>\n",
       "    </tr>\n",
       "  </thead>\n",
       "  <tbody>\n",
       "    <tr>\n",
       "      <th>count</th>\n",
       "      <td>145601.000000</td>\n",
       "      <td>146001.000000</td>\n",
       "      <td>146001.000000</td>\n",
       "      <td>145401.000000</td>\n",
       "      <td>146001.000000</td>\n",
       "    </tr>\n",
       "    <tr>\n",
       "      <th>mean</th>\n",
       "      <td>-86.465695</td>\n",
       "      <td>39.913703</td>\n",
       "      <td>-87.177163</td>\n",
       "      <td>39.922772</td>\n",
       "      <td>17.720372</td>\n",
       "    </tr>\n",
       "    <tr>\n",
       "      <th>std</th>\n",
       "      <td>25.468467</td>\n",
       "      <td>1.339508</td>\n",
       "      <td>22.225753</td>\n",
       "      <td>1.336437</td>\n",
       "      <td>55.098430</td>\n",
       "    </tr>\n",
       "    <tr>\n",
       "      <th>min</th>\n",
       "      <td>-122.515832</td>\n",
       "      <td>37.459648</td>\n",
       "      <td>-122.634420</td>\n",
       "      <td>37.225640</td>\n",
       "      <td>0.000000</td>\n",
       "    </tr>\n",
       "    <tr>\n",
       "      <th>25%</th>\n",
       "      <td>-122.393532</td>\n",
       "      <td>37.798430</td>\n",
       "      <td>-122.392458</td>\n",
       "      <td>37.800318</td>\n",
       "      <td>6.366667</td>\n",
       "    </tr>\n",
       "    <tr>\n",
       "      <th>50%</th>\n",
       "      <td>-73.989830</td>\n",
       "      <td>40.741089</td>\n",
       "      <td>-73.988754</td>\n",
       "      <td>40.740990</td>\n",
       "      <td>10.516667</td>\n",
       "    </tr>\n",
       "    <tr>\n",
       "      <th>75%</th>\n",
       "      <td>-73.974190</td>\n",
       "      <td>40.762104</td>\n",
       "      <td>-73.971245</td>\n",
       "      <td>40.762669</td>\n",
       "      <td>17.000000</td>\n",
       "    </tr>\n",
       "    <tr>\n",
       "      <th>max</th>\n",
       "      <td>74.100212</td>\n",
       "      <td>40.994354</td>\n",
       "      <td>-50.336068</td>\n",
       "      <td>41.005390</td>\n",
       "      <td>702.800000</td>\n",
       "    </tr>\n",
       "  </tbody>\n",
       "</table>\n",
       "</div>"
      ],
      "text/plain": [
       "           start_lng      start_lat        end_lng        end_lat  \\\n",
       "count  145601.000000  146001.000000  146001.000000  145401.000000   \n",
       "mean      -86.465695      39.913703     -87.177163      39.922772   \n",
       "std        25.468467       1.339508      22.225753       1.336437   \n",
       "min      -122.515832      37.459648    -122.634420      37.225640   \n",
       "25%      -122.393532      37.798430    -122.392458      37.800318   \n",
       "50%       -73.989830      40.741089     -73.988754      40.740990   \n",
       "75%       -73.974190      40.762104     -73.971245      40.762669   \n",
       "max        74.100212      40.994354     -50.336068      41.005390   \n",
       "\n",
       "            duration  \n",
       "count  146001.000000  \n",
       "mean       17.720372  \n",
       "std        55.098430  \n",
       "min         0.000000  \n",
       "25%         6.366667  \n",
       "50%        10.516667  \n",
       "75%        17.000000  \n",
       "max       702.800000  "
      ]
     },
     "execution_count": 79,
     "metadata": {},
     "output_type": "execute_result"
    }
   ],
   "source": [
    "df.describe()"
   ]
  },
  {
   "cell_type": "code",
   "execution_count": 81,
   "id": "9acad76e-6dcd-4676-979b-8f30f1410335",
   "metadata": {},
   "outputs": [
    {
     "name": "stdout",
     "output_type": "stream",
     "text": [
      "✅ Found 7963 duration outliers\n",
      "Lower bound: -9.58, Upper bound: 32.95\n"
     ]
    },
    {
     "data": {
      "text/html": [
       "<div>\n",
       "<style scoped>\n",
       "    .dataframe tbody tr th:only-of-type {\n",
       "        vertical-align: middle;\n",
       "    }\n",
       "\n",
       "    .dataframe tbody tr th {\n",
       "        vertical-align: top;\n",
       "    }\n",
       "\n",
       "    .dataframe thead th {\n",
       "        text-align: right;\n",
       "    }\n",
       "</style>\n",
       "<table border=\"1\" class=\"dataframe\">\n",
       "  <thead>\n",
       "    <tr style=\"text-align: right;\">\n",
       "      <th></th>\n",
       "      <th>start_lng</th>\n",
       "      <th>start_lat</th>\n",
       "      <th>end_lng</th>\n",
       "      <th>end_lat</th>\n",
       "      <th>datetime</th>\n",
       "      <th>duration</th>\n",
       "    </tr>\n",
       "  </thead>\n",
       "  <tbody>\n",
       "    <tr>\n",
       "      <th>2</th>\n",
       "      <td>-73.885292</td>\n",
       "      <td>40.773060</td>\n",
       "      <td>-74.000076</td>\n",
       "      <td>40.761360</td>\n",
       "      <td>2015-04-19 20:26:57</td>\n",
       "      <td>43.666667</td>\n",
       "    </tr>\n",
       "    <tr>\n",
       "      <th>12</th>\n",
       "      <td>-73.987556</td>\n",
       "      <td>40.719948</td>\n",
       "      <td>-50.603570</td>\n",
       "      <td>40.652721</td>\n",
       "      <td>2015-04-26 03:42:16</td>\n",
       "      <td>33.683333</td>\n",
       "    </tr>\n",
       "    <tr>\n",
       "      <th>26</th>\n",
       "      <td>-73.964157</td>\n",
       "      <td>40.792480</td>\n",
       "      <td>-73.991837</td>\n",
       "      <td>40.749352</td>\n",
       "      <td>2015-11-30 13:27:01</td>\n",
       "      <td>33.383333</td>\n",
       "    </tr>\n",
       "    <tr>\n",
       "      <th>32</th>\n",
       "      <td>-73.941292</td>\n",
       "      <td>40.787903</td>\n",
       "      <td>-73.932327</td>\n",
       "      <td>40.794922</td>\n",
       "      <td>2015-04-19 14:53:48</td>\n",
       "      <td>666.666667</td>\n",
       "    </tr>\n",
       "    <tr>\n",
       "      <th>98</th>\n",
       "      <td>-73.985489</td>\n",
       "      <td>40.759953</td>\n",
       "      <td>-73.865097</td>\n",
       "      <td>40.770557</td>\n",
       "      <td>2015-12-08 20:35:49</td>\n",
       "      <td>57.466667</td>\n",
       "    </tr>\n",
       "  </tbody>\n",
       "</table>\n",
       "</div>"
      ],
      "text/plain": [
       "    start_lng  start_lat    end_lng    end_lat             datetime  \\\n",
       "2  -73.885292  40.773060 -74.000076  40.761360  2015-04-19 20:26:57   \n",
       "12 -73.987556  40.719948 -50.603570  40.652721  2015-04-26 03:42:16   \n",
       "26 -73.964157  40.792480 -73.991837  40.749352  2015-11-30 13:27:01   \n",
       "32 -73.941292  40.787903 -73.932327  40.794922  2015-04-19 14:53:48   \n",
       "98 -73.985489  40.759953 -73.865097  40.770557  2015-12-08 20:35:49   \n",
       "\n",
       "      duration  \n",
       "2    43.666667  \n",
       "12   33.683333  \n",
       "26   33.383333  \n",
       "32  666.666667  \n",
       "98   57.466667  "
      ]
     },
     "metadata": {},
     "output_type": "display_data"
    },
    {
     "data": {
      "image/png": "[encoded data removed]",
      "text/plain": [
       "<Figure size 600x400 with 1 Axes>"
      ]
     },
     "metadata": {},
     "output_type": "display_data"
    }
   ],
   "source": [
    "# ---------------------------------------------\n",
    "# Detect Outliers in 'duration' using IQR Method\n",
    "# ---------------------------------------------\n",
    "\n",
    "import pandas as pd\n",
    "\n",
    "# Assuming df already exists and 'duration' is in minutes\n",
    "# (if still in seconds, you can divide by 60 first)\n",
    "# df['duration'] = df['duration'] / 60\n",
    "\n",
    "# Calculate Q1, Q3, and IQR\n",
    "Q1 = df['duration'].quantile(0.25)\n",
    "Q3 = df['duration'].quantile(0.75)\n",
    "IQR = Q3 - Q1\n",
    "\n",
    "# Define the bounds\n",
    "lower_bound = Q1 - 1.5 * IQR\n",
    "upper_bound = Q3 + 1.5 * IQR\n",
    "\n",
    "# Extract outliers as a DataFrame\n",
    "outliers_duration = df[(df['duration'] < lower_bound) | (df['duration'] > upper_bound)].copy()\n",
    "\n",
    "# Print summary\n",
    "print(f\"✅ Found {len(outliers_duration)} duration outliers\")\n",
    "print(f\"Lower bound: {lower_bound:.2f}, Upper bound: {upper_bound:.2f}\")\n",
    "display(outliers_duration.head())\n",
    "\n",
    "# Optional: visualize\n",
    "import matplotlib.pyplot as plt\n",
    "import seaborn as sns\n",
    "\n",
    "plt.figure(figsize=(6,4))\n",
    "sns.boxplot(x=df['duration'])\n",
    "plt.title(\"Duration (with Outliers)\")\n",
    "plt.show()\n"
   ]
  },
  {
   "cell_type": "code",
   "execution_count": 93,
   "id": "cfdbd7a0-c369-44ab-96d3-de2f0ae0baee",
   "metadata": {},
   "outputs": [
    {
     "name": "stdout",
     "output_type": "stream",
     "text": [
      "Lower bound: -9.58\n",
      "Upper bound: 32.95\n",
      "\n",
      "🧾 Outlier values in 'duration':\n",
      "[43.66666667 33.68333333 33.38333333 ... 55.46666667 54.28333333\n",
      " 52.23333333]\n"
     ]
    }
   ],
   "source": [
    "# ---------------------------------------------\n",
    "# Detect and Display Outlier Values in Duration\n",
    "# ---------------------------------------------\n",
    "\n",
    "import pandas as pd\n",
    "\n",
    "# Calculate Q1, Q3, and IQR\n",
    "Q1 = df['duration'].quantile(0.25)\n",
    "Q3 = df['duration'].quantile(0.75)\n",
    "IQR = Q3 - Q1\n",
    "\n",
    "# Define the bounds\n",
    "lower_bound = Q1 - 1.5 * IQR\n",
    "upper_bound = Q3 + 1.5 * IQR\n",
    "\n",
    "print(f\"Lower bound: {lower_bound:.2f}\")\n",
    "print(f\"Upper bound: {upper_bound:.2f}\")\n",
    "\n",
    "# Extract the actual outlier values\n",
    "outlier_values = df.loc[(df['duration'] < lower_bound) | (df['duration'] > upper_bound), 'duration']\n",
    "\n",
    "# Display unique outlier values\n",
    "print(\"\\n🧾 Outlier values in 'duration':\")\n",
    "print(outlier_values.unique())\n"
   ]
  },
  {
   "cell_type": "code",
   "execution_count": 97,
   "id": "b54edc0c-3fc7-4475-be43-c2057a5af6da",
   "metadata": {},
   "outputs": [],
   "source": [
    "# i want to remove the duration that exceed than 2 hrs\n",
    "#Dropping trips above 7200 seconds (2 hours)\n",
    "above_2hrs = df[df[\"duration\"] > 120]\n",
    "df.drop(above_2hrs.index,axis=0,inplace=True)"
   ]
  },
  {
   "cell_type": "code",
   "execution_count": null,
   "id": "e0943aea-9c87-4eab-9fa9-cd2100814bad",
   "metadata": {},
   "outputs": [],
   "source": [
    "# feature engineering\n"
   ]
  }
 ],
 "metadata": {
  "kernelspec": {
   "display_name": "Python 3",
   "language": "python",
   "name": "python3"
  },
  "language_info": {
   "codemirror_mode": {
    "name": "ipython",
    "version": 3
   },
   "file_extension": ".py",
   "mimetype": "text/x-python",
   "name": "python",
   "nbconvert_exporter": "python",
   "pygments_lexer": "ipython3",
   "version": "3.13.1"
  }
 },
 "nbformat": 4,
 "nbformat_minor": 5
}
